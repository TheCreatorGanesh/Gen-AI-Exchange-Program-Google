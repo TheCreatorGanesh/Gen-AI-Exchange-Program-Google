{
 "cells": [
  {
   "cell_type": "markdown",
   "id": "f3100e34",
   "metadata": {},
   "source": [
    "Task 1. Build and Deploy the Application to Cloud Run\n",
    "In this section, you will deploy the Streamlit Application in Cloud Run."
   ]
  },
  {
   "cell_type": "markdown",
   "id": "d0bc8108",
   "metadata": {},
   "source": [
    "# Clone the Repository\n",
    "\n",
    "Open a new Cloud Shell terminal by clicking on the Cloud Shell icon in the top right corner of the Cloud console.\n",
    "\n",
    "Run the following commands to clone the repo and navigate to gemini-streamlit-cloudrun directory in Cloud Shell using the following commands."
   ]
  },
  {
   "cell_type": "code",
   "execution_count": null,
   "id": "67e24b47",
   "metadata": {},
   "outputs": [],
   "source": [
    "git clone https://github.com/GoogleCloudPlatform/generative-ai.git --depth=1"
   ]
  },
  {
   "cell_type": "code",
   "execution_count": null,
   "id": "62c94bb5",
   "metadata": {},
   "outputs": [],
   "source": [
    "cd generative-ai/gemini/sample-apps/gemini-streamlit-cloudrun"
   ]
  },
  {
   "cell_type": "markdown",
   "id": "cde453c3",
   "metadata": {},
   "source": [
    "## Configuration\n",
    "\n",
    "1. Setup the Python virtual environment and install the dependencies:"
   ]
  },
  {
   "cell_type": "code",
   "execution_count": null,
   "id": "02fd3d1e",
   "metadata": {},
   "outputs": [],
   "source": [
    "python3 -m venv gemini-streamlit\n",
    "source gemini-streamlit/bin/activate\n",
    "pip install -r requirements.txt"
   ]
  },
  {
   "cell_type": "markdown",
   "id": "7b75b3a8",
   "metadata": {},
   "source": [
    "2. Your application requires access to two environment variables:\n",
    "\n",
    "- GOOGLE_CLOUD_PROJECT : This the Google Cloud project ID.\n",
    "- GOOGLE_CLOUD_REGION : This is the region in which you are deploying your Cloud Run app. For e.g. us-central1.\n",
    "\n",
    "These variables are needed since the Vertex AI initialization needs the Google Cloud project ID and the region. The specific code line from the app.py function is shown here: vertexai.init(project=PROJECT_ID, location=LOCATION)\n",
    "\n",
    "In Cloud Shell, execute the following commands:"
   ]
  },
  {
   "cell_type": "code",
   "execution_count": null,
   "id": "93ed3d52",
   "metadata": {},
   "outputs": [],
   "source": [
    "GOOGLE_CLOUD_PROJECT='Project ID'\n",
    "GOOGLE_CLOUD_REGION='Region'"
   ]
  },
  {
   "cell_type": "markdown",
   "id": "cf0817ba",
   "metadata": {},
   "source": [
    "3. You will now build the Docker image for the application and push it to Artifact Registry. To do this, you will need one environment variable set that will point to the Artifact Registry name. The commands below will create this Artifact Registry repository for you.\n",
    "\n",
    "Note: This step will take several minutes to complete."
   ]
  },
  {
   "cell_type": "markdown",
   "id": "aa65e5de",
   "metadata": {},
   "source": [
    "4. In Cloud Shell, execute the following command:"
   ]
  },
  {
   "cell_type": "code",
   "execution_count": null,
   "id": "0acb5980",
   "metadata": {},
   "outputs": [],
   "source": [
    "AR_REPO='gemini-repo'\n",
    "SERVICE_NAME='gemini-streamlit-app' \n",
    "gcloud artifacts repositories create \"$AR_REPO\" --location=\"$GOOGLE_CLOUD_REGION\" --repository-format=Docker\n",
    "gcloud builds submit --tag \"$GOOGLE_CLOUD_REGION-docker.pkg.dev/$GOOGLE_CLOUD_PROJECT/$AR_REPO/$SERVICE_NAME\""
   ]
  },
  {
   "cell_type": "markdown",
   "id": "0db28a39",
   "metadata": {},
   "source": [
    "6. The final step is to deploy the service in Cloud Run with the image that we had built and had pushed to the Artifact Registry in the previous step."
   ]
  },
  {
   "cell_type": "code",
   "execution_count": null,
   "id": "c91cc500",
   "metadata": {},
   "outputs": [],
   "source": [
    "gcloud run deploy \"$SERVICE_NAME\" \\\n",
    "  --port=8080 \\\n",
    "  --image=\"$GOOGLE_CLOUD_REGION-docker.pkg.dev/$GOOGLE_CLOUD_PROJECT/$AR_REPO/$SERVICE_NAME\" \\\n",
    "  --allow-unauthenticated \\\n",
    "  --region=$GOOGLE_CLOUD_REGION \\\n",
    "  --platform=managed  \\\n",
    "  --project=$GOOGLE_CLOUD_PROJECT \\\n",
    "  --set-env-vars=GOOGLE_CLOUD_PROJECT=$GOOGLE_CLOUD_PROJECT,GOOGLE_CLOUD_REGION=$GOOGLE_CLOUD_REGION"
   ]
  },
  {
   "cell_type": "markdown",
   "id": "102b4e91",
   "metadata": {},
   "source": [
    "On successful deployment, you will be provided a URL to the Cloud Run service. You can visit that in the browser to view the Cloud Run application that you just deployed.\n",
    "\n",
    "Ex: https://gemini-streamlit-app-724206842512.us-central1.run.app/"
   ]
  }
 ],
 "metadata": {
  "language_info": {
   "name": "python"
  }
 },
 "nbformat": 4,
 "nbformat_minor": 5
}
